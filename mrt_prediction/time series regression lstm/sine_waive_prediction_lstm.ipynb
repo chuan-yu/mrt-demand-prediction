{
 "cells": [
  {
   "cell_type": "code",
   "execution_count": 1,
   "metadata": {
    "collapsed": true
   },
   "outputs": [],
   "source": [
    "import numpy as np\n",
    "from matplotlib import pyplot as plt\n",
    "import tensorflow as tf\n",
    "import shutil\n",
    "import tensorflow.contrib.learn as tflearn\n",
    "import tensorflow.contrib.layers as tflayers\n",
    "from tensorflow.contrib.learn.python.learn import learn_runner\n",
    "import tensorflow.contrib.metrics as metrics\n",
    "import tensorflow.contrib.rnn as rnn\n",
    "from matplotlib import pyplot as plt\n",
    "\n",
    "tf.logging.set_verbosity(tf.logging.INFO)"
   ]
  },
  {
   "cell_type": "code",
   "execution_count": 2,
   "metadata": {
    "collapsed": false
   },
   "outputs": [],
   "source": [
    "def generate_sine_data():\n",
    "    x = np.linspace(0, 100, 10000)\n",
    "    sine = np.sin(x)\n",
    "    sine = sine.reshape(x.shape[0], 1)\n",
    "    return sine\n",
    "\n",
    "\n",
    "def split_data(data, time_steps, test_ratio=0.3):\n",
    "    n_train = int(len(data) * (1 - test_ratio))\n",
    "    train = data[0:n_train]\n",
    "    test = data[n_train:]\n",
    "    test = np.vstack((train[-time_steps:], test))\n",
    "    return train, test\n",
    "\n",
    "\n",
    "def generate_rnn_data(data, time_steps, labels=False):\n",
    "    rnn_data = []\n",
    "    if labels:\n",
    "        for i in range(len(data) - time_steps):\n",
    "            rnn_data.append(data[i + time_steps])\n",
    "    else:\n",
    "        for i in range(len(data) - time_steps):\n",
    "            rnn_data.append(data[i : i + time_steps])\n",
    "    \n",
    "    rnn_data = np.array(rnn_data)\n",
    "    return rnn_data\n",
    "\n",
    "def prepare_data(time_steps):\n",
    "    raw_data = generate_sine_data()\n",
    "    train, test = split_data(raw_data, time_steps, test_ratio=0.3)\n",
    "    train_X = generate_rnn_data(train, time_steps, labels=False)\n",
    "    test_X = generate_rnn_data(test, time_steps, labels=False)\n",
    "    train_y = generate_rnn_data(train, time_steps, labels=True)\n",
    "    test_y = generate_rnn_data(test, time_steps, labels=True)\n",
    "    return train_X, test_X, train_y, test_y"
   ]
  },
  {
   "cell_type": "code",
   "execution_count": null,
   "metadata": {
    "collapsed": false
   },
   "outputs": [],
   "source": [
    "train_X, test_X, train_y, test_y = prepare_data(5)\n",
    "sine = generate_sine_data()\n"
   ]
  },
  {
   "cell_type": "code",
   "execution_count": 16,
   "metadata": {
    "collapsed": false
   },
   "outputs": [],
   "source": [
    "LSTM_SIZE = 10\n",
    "BATCH_SIZE = 200\n",
    "TIME_STEPS = 20\n",
    "N_FEATURES = 1\n",
    "N_OUTPUTS = 1\n",
    "LEARNING_RATE = 0.0001\n",
    "CHECKPOINT_FOLDER = \"tf/models/\"\n",
    "\n",
    "def simple_rnn(features, targets, mode, params):\n",
    "    \n",
    "\n",
    "    X = features['raw_data']\n",
    "    X = tf.transpose(X, (1, 0, 2))\n",
    "    X = tf.unstack(X)\n",
    "\n",
    "\n",
    "    lstm_cell = rnn.BasicLSTMCell(LSTM_SIZE, forget_bias=1.0)\n",
    "    outputs, _ = rnn.static_rnn(lstm_cell, X, dtype=tf.float32)    \n",
    "    outputs = outputs[-1]\n",
    "    weights = tf.Variable(tf.random_normal([LSTM_SIZE, N_OUTPUTS]))\n",
    "    bias = tf.Variable(tf.random_normal([N_OUTPUTS]))\n",
    "    predictions = tf.matmul(outputs, weights) + bias\n",
    "    predictions_dict = {\"predicted\": predictions}\n",
    "\n",
    "\n",
    "    loss = tf.losses.mean_squared_error(targets, predictions)\n",
    "    eval_metric_ops = {\n",
    "        \"rmse\": tf.metrics.root_mean_squared_error(targets, predictions)\n",
    "    }\n",
    "\n",
    "    \n",
    "    train_op = tf.contrib.layers.optimize_loss(\n",
    "        loss=loss,\n",
    "        global_step=tf.contrib.framework.get_global_step(),\n",
    "        learning_rate=params['learning_rate'],\n",
    "        optimizer='SGD')\n",
    "    \n",
    "    return tflearn.ModelFnOps(\n",
    "        mode=mode,\n",
    "        predictions=predictions_dict,\n",
    "        loss=loss,\n",
    "        train_op=train_op,\n",
    "        eval_metric_ops=eval_metric_ops)"
   ]
  },
  {
   "cell_type": "code",
   "execution_count": 17,
   "metadata": {
    "collapsed": false
   },
   "outputs": [],
   "source": [
    "def main():\n",
    "    model_params = {\"learning_rate\": LEARNING_RATE}\n",
    "    \n",
    "    train_X, test_X, train_y, test_y = prepare_data(5)\n",
    "    \n",
    "    \n",
    "    def get_train_inputs():\n",
    "        #X = np.transpose(train_X, (1, 0, 2))\n",
    "        X = tf.convert_to_tensor(train_X, dtype=tf.float32)\n",
    "        y = tf.convert_to_tensor(train_y, dtype=tf.float32)\n",
    "        return {'raw_data': X}, y\n",
    "    \n",
    "    def get_test_inputs():\n",
    "        #X = np.transpose(test_X, (1, 0, 2))\n",
    "        X = tf.convert_to_tensor(test_X, dtype=tf.float32)\n",
    "        y = tf.convert_to_tensor(test_y, dtype=tf.float32)\n",
    "        return {'raw_data': X}, y\n",
    "        \n",
    "    nn = tf.contrib.learn.Estimator(model_fn=simple_rnn, params=model_params, model_dir=CHECKPOINT_FOLDER)\n",
    "    validation_monitor = tflearn.monitors.ValidationMonitor(input_fn=get_test_inputs,\n",
    "                                                      every_n_steps=50, eval_steps=1)\n",
    "    \n",
    "    nn.fit(input_fn=get_train_inputs, steps=2000, monitors=[validation_monitor])\n",
    "    ev = nn.evaluate(input_fn=get_test_inputs, steps=1)\n",
    "    print(\"Loss: %s\" % ev[\"loss\"])\n",
    "    print(\"Root Mean Squared Error: %s\" % ev[\"rmse\"])\n",
    "    \n",
    "    predictions = nn.predict(input_fn=get_test_inputs, as_iterable=False)\n",
    "    print(predictions['predicted'].shape)\n",
    "    print(test_y.shape)\n",
    "    plt.plot(predictions['predicted'])\n",
    "    plt.plot(test_y)\n",
    "    plt.show()\n",
    "    "
   ]
  },
  {
   "cell_type": "code",
   "execution_count": 18,
   "metadata": {
    "collapsed": false
   },
   "outputs": [
    {
     "name": "stdout",
     "output_type": "stream",
     "text": [
      "INFO:tensorflow:Using default config.\n",
      "INFO:tensorflow:Using config: {'_task_type': None, '_task_id': 0, '_cluster_spec': <tensorflow.python.training.server_lib.ClusterSpec object at 0x122228c88>, '_master': '', '_num_ps_replicas': 0, '_num_worker_replicas': 0, '_environment': 'local', '_is_chief': True, '_evaluation_master': '', '_tf_config': gpu_options {\n",
      "  per_process_gpu_memory_fraction: 1\n",
      "}\n",
      ", '_tf_random_seed': None, '_save_summary_steps': 100, '_save_checkpoints_secs': 600, '_session_config': None, '_save_checkpoints_steps': None, '_keep_checkpoint_max': 5, '_keep_checkpoint_every_n_hours': 10000, '_model_dir': 'tf/models/'}\n",
      "WARNING:tensorflow:From /Users/chuanyu/anaconda/envs/p3/lib/python3.6/site-packages/tensorflow/contrib/learn/python/learn/monitors.py:268: BaseMonitor.__init__ (from tensorflow.contrib.learn.python.learn.monitors) is deprecated and will be removed after 2016-12-05.\n",
      "Instructions for updating:\n",
      "Monitors are deprecated. Please use tf.train.SessionRunHook.\n",
      "INFO:tensorflow:Create CheckpointSaverHook.\n",
      "INFO:tensorflow:Saving checkpoints for 1 into tf/models/model.ckpt.\n",
      "INFO:tensorflow:loss = 0.661617, step = 1\n",
      "INFO:tensorflow:Starting evaluation at 2017-07-03-05:54:33\n",
      "INFO:tensorflow:Restoring parameters from tf/models/model.ckpt-1\n",
      "INFO:tensorflow:Evaluation [1/1]\n",
      "INFO:tensorflow:Finished evaluation at 2017-07-03-05:54:34\n",
      "INFO:tensorflow:Saving dict for global step 1: global_step = 1, loss = 0.687967, rmse = 0.829437\n",
      "INFO:tensorflow:Validation (step 50): rmse = 0.829437, loss = 0.687967, global_step = 1\n",
      "INFO:tensorflow:global_step/sec: 17.6041\n",
      "INFO:tensorflow:loss = 0.627948, step = 101 (5.682 sec)\n",
      "INFO:tensorflow:global_step/sec: 32.3833\n",
      "INFO:tensorflow:loss = 0.596014, step = 201 (3.088 sec)\n",
      "INFO:tensorflow:global_step/sec: 28.2748\n",
      "INFO:tensorflow:loss = 0.565723, step = 301 (3.537 sec)\n",
      "INFO:tensorflow:global_step/sec: 34.4272\n",
      "INFO:tensorflow:loss = 0.536984, step = 401 (2.905 sec)\n",
      "INFO:tensorflow:global_step/sec: 35.8116\n",
      "INFO:tensorflow:loss = 0.509714, step = 501 (2.793 sec)\n",
      "INFO:tensorflow:global_step/sec: 32.8593\n",
      "INFO:tensorflow:loss = 0.483835, step = 601 (3.043 sec)\n",
      "INFO:tensorflow:global_step/sec: 34.9559\n",
      "INFO:tensorflow:loss = 0.459274, step = 701 (2.861 sec)\n",
      "INFO:tensorflow:global_step/sec: 30.4723\n",
      "INFO:tensorflow:loss = 0.435961, step = 801 (3.281 sec)\n",
      "INFO:tensorflow:global_step/sec: 36.6515\n",
      "INFO:tensorflow:loss = 0.413831, step = 901 (2.729 sec)\n",
      "INFO:tensorflow:global_step/sec: 36.1954\n",
      "INFO:tensorflow:loss = 0.392822, step = 1001 (2.763 sec)\n",
      "INFO:tensorflow:global_step/sec: 36.1753\n",
      "INFO:tensorflow:loss = 0.372876, step = 1101 (2.765 sec)\n",
      "INFO:tensorflow:global_step/sec: 30.835\n",
      "INFO:tensorflow:loss = 0.353938, step = 1201 (3.243 sec)\n",
      "INFO:tensorflow:global_step/sec: 32.0787\n",
      "INFO:tensorflow:loss = 0.335958, step = 1301 (3.117 sec)\n",
      "INFO:tensorflow:global_step/sec: 33.0024\n",
      "INFO:tensorflow:loss = 0.318885, step = 1401 (3.031 sec)\n",
      "INFO:tensorflow:global_step/sec: 30.1272\n",
      "INFO:tensorflow:loss = 0.302674, step = 1501 (3.319 sec)\n",
      "INFO:tensorflow:global_step/sec: 24.7256\n",
      "INFO:tensorflow:loss = 0.28728, step = 1601 (4.045 sec)\n",
      "INFO:tensorflow:global_step/sec: 31.9381\n",
      "INFO:tensorflow:loss = 0.272663, step = 1701 (3.131 sec)\n",
      "INFO:tensorflow:global_step/sec: 23.925\n",
      "INFO:tensorflow:loss = 0.258783, step = 1801 (4.180 sec)\n",
      "INFO:tensorflow:global_step/sec: 29.1719\n",
      "INFO:tensorflow:loss = 0.245602, step = 1901 (3.428 sec)\n",
      "INFO:tensorflow:Saving checkpoints for 2000 into tf/models/model.ckpt.\n",
      "INFO:tensorflow:Loss for final step: 0.233209.\n",
      "INFO:tensorflow:Starting evaluation at 2017-07-03-05:55:39\n",
      "INFO:tensorflow:Restoring parameters from tf/models/model.ckpt-2000\n",
      "INFO:tensorflow:Evaluation [1/1]\n",
      "INFO:tensorflow:Finished evaluation at 2017-07-03-05:55:40\n",
      "INFO:tensorflow:Saving dict for global step 2000: global_step = 2000, loss = 0.242506, rmse = 0.492449\n",
      "Loss: 0.242506\n",
      "Root Mean Squared Error: 0.492449\n",
      "WARNING:tensorflow:From <ipython-input-17-2a0b61124ddb>:28: calling BaseEstimator.predict (from tensorflow.contrib.learn.python.learn.estimators.estimator) with as_iterable is deprecated and will be removed after 2016-12-01.\n",
      "Instructions for updating:\n",
      "Estimator is decoupled from Scikit Learn interface by moving into\n",
      "separate class SKCompat. Arguments x, y and batch_size are only\n",
      "available in the SKCompat class, Estimator will only accept input_fn.\n",
      "Example conversion:\n",
      "  est = Estimator(...) -> est = SKCompat(Estimator(...))\n",
      "INFO:tensorflow:Restoring parameters from tf/models/model.ckpt-2000\n",
      "(3000, 1)\n",
      "(3000, 1)\n"
     ]
    },
    {
     "data": {
      "image/png": "[encoded data removed]",
      "text/plain": [
       "<matplotlib.figure.Figure at 0x125269710>"
      ]
     },
     "metadata": {},
     "output_type": "display_data"
    }
   ],
   "source": [
    "if __name__ == \"__main__\":\n",
    "    main()"
   ]
  },
  {
   "cell_type": "code",
   "execution_count": null,
   "metadata": {
    "collapsed": false
   },
   "outputs": [],
   "source": []
  },
  {
   "cell_type": "code",
   "execution_count": null,
   "metadata": {
    "collapsed": true
   },
   "outputs": [],
   "source": []
  },
  {
   "cell_type": "code",
   "execution_count": null,
   "metadata": {
    "collapsed": true
   },
   "outputs": [],
   "source": []
  }
 ],
 "metadata": {
  "kernelspec": {
   "display_name": "Python 3",
   "language": "python",
   "name": "python3"
  },
  "language_info": {
   "codemirror_mode": {
    "name": "ipython",
    "version": 3
   },
   "file_extension": ".py",
   "mimetype": "text/x-python",
   "name": "python",
   "nbconvert_exporter": "python",
   "pygments_lexer": "ipython3",
   "version": "3.6.0"
  }
 },
 "nbformat": 4,
 "nbformat_minor": 2
}
